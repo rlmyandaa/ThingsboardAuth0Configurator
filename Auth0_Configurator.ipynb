{
 "cells": [
  {
   "cell_type": "code",
   "execution_count": null,
   "metadata": {},
   "outputs": [],
   "source": [
    "import time\n",
    "import os\n",
    "\n",
    "def clear(): \n",
    "    if os.name == 'nt': \n",
    "        _ = os.system('cls') \n",
    "  \n",
    "    else: \n",
    "        _ = os.system('clear') \n",
    "\n",
    "time.sleep(0.5)\n",
    "print('================================================')\n",
    "time.sleep(0.5)\n",
    "print('===============Auth0 Configurator===============')\n",
    "time.sleep(0.5)\n",
    "print('===========v1_DPTE UPI - @l0wpassfilter=========')\n",
    "time.sleep(0.5)\n",
    "print('================================================')\n",
    "time.sleep(0.5)\n",
    "print()\n",
    "print()\n",
    "\n",
    "input('Press enter to continue...')\n",
    "clear()"
   ]
  },
  {
   "cell_type": "code",
   "execution_count": 2,
   "metadata": {},
   "outputs": [
    {
     "name": "stdout",
     "output_type": "stream",
     "text": [
      "Make sure to put thingsboard.yml file in the same directory as this program\n",
      "Press enter to continue...\n",
      "\n",
      "\n",
      "Finding thingsboard.yml file\n"
     ]
    }
   ],
   "source": [
    "time.sleep(0.5)\n",
    "print('Make sure to put thingsboard.yml file in the same directory as this program')\n",
    "input('Press enter to continue...')\n",
    "print()\n",
    "print()\n",
    "time.sleep(0.5)\n",
    "print('Finding thingsboard.yml file')\n",
    "time.sleep(0.5)"
   ]
  },
  {
   "cell_type": "code",
   "execution_count": 3,
   "metadata": {},
   "outputs": [
    {
     "name": "stdout",
     "output_type": "stream",
     "text": [
      "Found thingsboard.yml file\n",
      "Original thingsboard.yml file backed up to thignsboard_raw.yml file\n",
      "Backup complete..\n"
     ]
    }
   ],
   "source": [
    "if(os.path.isfile('thingsboard.yml')):\n",
    "    print('Found thingsboard.yml file')\n",
    "    time.sleep(0.5)\n",
    "    print('Original thingsboard.yml file backed up to thignsboard_raw.yml file')\n",
    "    os.rename(r'thingsboard.yml',r'thingsboard_raw.yml')\n",
    "    time.sleep(0.5)\n",
    "    print('Backup complete..')\n",
    "    time.sleep(0.5)\n",
    "else:\n",
    "    print('thingsboard.yml not found, please put your original thingsboard.yml file first and rerun this program')\n",
    "    quit()"
   ]
  },
  {
   "cell_type": "code",
   "execution_count": 4,
   "metadata": {},
   "outputs": [],
   "source": [
    "\n",
    "\n",
    "file = open(\"thingsboard_raw.yml\", \"rt\")\n",
    "#read file contents to string\n",
    "data = file.read()\n",
    "#replace all occurrences of the required string"
   ]
  },
  {
   "cell_type": "code",
   "execution_count": 5,
   "metadata": {},
   "outputs": [],
   "source": [
    "#service Name\n",
    "\n",
    "data = data.replace('default:', 'auth0:')"
   ]
  },
  {
   "cell_type": "code",
   "execution_count": 6,
   "metadata": {},
   "outputs": [],
   "source": [
    "#loginButtonLabel\n",
    "\n",
    "old = 'loginButtonLabel: \"${SECURITY_OAUTH2_DEFAULT_LOGIN_BUTTON_LABEL:Default}\"'\n",
    "new = 'loginButtonLabel: \"${SECURITY_OAUTH2_DEFAULT_LOGIN_BUTTON_LABEL:Auth0}\"'\n",
    "data = data.replace(old, new)"
   ]
  },
  {
   "cell_type": "code",
   "execution_count": 7,
   "metadata": {},
   "outputs": [],
   "source": [
    "old = 'loginButtonIcon: \"${SECURITY_OAUTH2_DEFAULT_LOGIN_BUTTON_ICON:}\"'\n",
    "new = 'loginButtonIcon: \"${SECURITY_OAUTH2_DEFAULT_LOGIN_BUTTON_ICON:mdi:shield-account}\"'\n",
    "data = data.replace(old, new)"
   ]
  },
  {
   "cell_type": "code",
   "execution_count": 8,
   "metadata": {},
   "outputs": [
    {
     "name": "stdout",
     "output_type": "stream",
     "text": [
      "Enter clientName: gajdsga\n"
     ]
    }
   ],
   "source": [
    "#Client Name\n",
    "\n",
    "clientName = input('Enter clientName: ')\n",
    "\n",
    "old = 'clientName: \"${SECURITY_OAUTH2_DEFAULT_CLIENT_NAME:ClientName}\"'\n",
    "new = 'clientName: \"${SECURITY_OAUTH2_DEFAULT_CLIENT_NAME:'\n",
    "new = new+clientName+'}\"'\n",
    "\n",
    "data = data.replace(old, new)"
   ]
  },
  {
   "cell_type": "code",
   "execution_count": 9,
   "metadata": {},
   "outputs": [
    {
     "name": "stdout",
     "output_type": "stream",
     "text": [
      "Enter clientId: jsagdja\n"
     ]
    }
   ],
   "source": [
    "#Client ID\n",
    "clientId = input('Enter clientId: ')\n",
    "\n",
    "old = 'clientId: \"${SECURITY_OAUTH2_DEFAULT_CLIENT_ID:}\"'\n",
    "new = 'clientId: \"${SECURITY_OAUTH2_DEFAULT_CLIENT_ID:'\n",
    "new = new+clientId+'}\"'\n",
    "\n",
    "data = data.replace(old, new)"
   ]
  },
  {
   "cell_type": "code",
   "execution_count": 10,
   "metadata": {},
   "outputs": [
    {
     "name": "stdout",
     "output_type": "stream",
     "text": [
      "Enter clientSecret: gjsagdj\n"
     ]
    }
   ],
   "source": [
    "#Client Secret\n",
    "clientSecret = input('Enter clientSecret: ')\n",
    "\n",
    "old = 'clientSecret: \"${SECURITY_OAUTH2_DEFAULT_CLIENT_SECRET:}\"'\n",
    "new = 'clientSecret: \"${SECURITY_OAUTH2_DEFAULT_CLIENT_SECRET:'\n",
    "new = new+clientSecret+'}\"'\n",
    "\n",
    "data = data.replace(old, new)"
   ]
  },
  {
   "cell_type": "code",
   "execution_count": 11,
   "metadata": {},
   "outputs": [
    {
     "name": "stdout",
     "output_type": "stream",
     "text": [
      "Enter accessTokenUri: jgsajd\n"
     ]
    }
   ],
   "source": [
    "#Access Token URI\n",
    "accessTokenUri = input('Enter accessTokenUri: ')\n",
    "\n",
    "old = 'accessTokenUri: \"${SECURITY_OAUTH2_DEFAULT_ACCESS_TOKEN_URI:}\"'\n",
    "new = 'accessTokenUri: \"${SECURITY_OAUTH2_DEFAULT_ACCESS_TOKEN_URI:'\n",
    "new = new+accessTokenUri+'}\"'\n",
    "\n",
    "data = data.replace(old, new)"
   ]
  },
  {
   "cell_type": "code",
   "execution_count": 12,
   "metadata": {},
   "outputs": [],
   "source": [
    "#UserScope\n",
    "\n",
    "old = 'scope: \"${SECURITY_OAUTH2_DEFAULT_SCOPE:}\"'\n",
    "new = 'scope: \"${SECURITY_OAUTH2_DEFAULT_SCOPE:openid,email,profile}\"'\n",
    "\n",
    "data = data.replace(old, new)"
   ]
  },
  {
   "cell_type": "code",
   "execution_count": 13,
   "metadata": {},
   "outputs": [],
   "source": [
    "#Redirect URI Template\n",
    "\n",
    "old = 'redirectUriTemplate: \"${SECURITY_OAUTH2_DEFAULT_REDIRECT_URI_TEMPLATE:http://localhost:8080/login/oauth2/code/}\"'\n"
   ]
  },
  {
   "cell_type": "code",
   "execution_count": 14,
   "metadata": {},
   "outputs": [
    {
     "name": "stdout",
     "output_type": "stream",
     "text": [
      "Enter jwkSetUri: gjgsajd\n"
     ]
    }
   ],
   "source": [
    "#jwkSetUri\n",
    "jwkSetUri = input('Enter jwkSetUri: ')\n",
    "\n",
    "old = 'jwkSetUri: \"${SECURITY_OAUTH2_DEFAULT_JWK_SET_URI:}\"'\n",
    "new = 'jwkSetUri: \"${SECURITY_OAUTH2_DEFAULT_JWK_SET_URI:'\n",
    "new = new+jwkSetUri+'}\"'\n",
    "\n",
    "data = data.replace(old, new)"
   ]
  },
  {
   "cell_type": "code",
   "execution_count": 15,
   "metadata": {},
   "outputs": [],
   "source": [
    "#authorizationGrantType\n",
    "\n",
    "old = 'authorizationGrantType: \"${SECURITY_OAUTH2_DEFAULT_AUTHORIZATION_GRANT_TYPE:authorization_code}\"'\n"
   ]
  },
  {
   "cell_type": "code",
   "execution_count": 16,
   "metadata": {},
   "outputs": [],
   "source": [
    "#clientAuthenticationMethod\n",
    "\n",
    "old = 'clientAuthenticationMethod: \"${SECURITY_OAUTH2_DEFAULT_CLIENT_AUTHENTICATION_METHOD:post}\" # basic or post'\n"
   ]
  },
  {
   "cell_type": "code",
   "execution_count": 17,
   "metadata": {},
   "outputs": [
    {
     "name": "stdout",
     "output_type": "stream",
     "text": [
      "Enter userInfoUri: gjsagd\n"
     ]
    }
   ],
   "source": [
    "#userInfoUri\n",
    "\n",
    "userInfoUri = input('Enter userInfoUri: ')\n",
    "\n",
    "old = 'userInfoUri: \"${SECURITY_OAUTH2_DEFAULT_USER_INFO_URI:}\"'\n",
    "new = 'userInfoUri: \"${SECURITY_OAUTH2_DEFAULT_USER_INFO_URI:'\n",
    "new = new+userInfoUri+'}\"'\n",
    "\n",
    "data = data.replace(old, new)"
   ]
  },
  {
   "cell_type": "code",
   "execution_count": 18,
   "metadata": {},
   "outputs": [],
   "source": [
    "#userNameAttributeName\n",
    "\n",
    "old = 'userNameAttributeName: \"${SECURITY_OAUTH2_DEFAULT_USER_NAME_ATTRIBUTE_NAME:email}\"'\n"
   ]
  },
  {
   "cell_type": "code",
   "execution_count": 19,
   "metadata": {},
   "outputs": [],
   "source": [
    "#allowUserCreation\n",
    "old = 'allowUserCreation: \"${SECURITY_OAUTH2_DEFAULT_MAPPER_ALLOW_USER_CREATION:true}\"'\n"
   ]
  },
  {
   "cell_type": "code",
   "execution_count": 20,
   "metadata": {},
   "outputs": [],
   "source": [
    "#activateUser\n",
    "\n",
    "old = 'activateUser: \"${SECURITY_OAUTH2_DEFAULT_MAPPER_ACTIVATE_USER:false}\"'\n"
   ]
  },
  {
   "cell_type": "code",
   "execution_count": 21,
   "metadata": {},
   "outputs": [],
   "source": [
    "#Default Mapper Type\n",
    "\n",
    "old = 'type: \"${SECURITY_OAUTH2_DEFAULT_MAPPER_TYPE:basic}\"'\n"
   ]
  },
  {
   "cell_type": "code",
   "execution_count": 22,
   "metadata": {},
   "outputs": [],
   "source": [
    "#emailAttributeKey\n",
    "\n",
    "old = 'emailAttributeKey: \"${SECURITY_OAUTH2_DEFAULT_MAPPER_BASIC_EMAIL_ATTRIBUTE_KEY:email}\"'\n"
   ]
  },
  {
   "cell_type": "code",
   "execution_count": 23,
   "metadata": {},
   "outputs": [],
   "source": [
    "#firstNameAttributeKey\n",
    "\n",
    "old = 'firstNameAttributeKey: \"${SECURITY_OAUTH2_DEFAULT_MAPPER_BASIC_FIRST_NAME_ATTRIBUTE_KEY:}\"'\n",
    "new = 'firstNameAttributeKey: \"${SECURITY_OAUTH2_DEFAULT_MAPPER_BASIC_FIRST_NAME_ATTRIBUTE_KEY:given_name}\"'\n",
    "\n",
    "data = data.replace(old, new)"
   ]
  },
  {
   "cell_type": "code",
   "execution_count": 24,
   "metadata": {},
   "outputs": [],
   "source": [
    "#lastNameAttributeKey\n",
    "\n",
    "old = 'lastNameAttributeKey: \"${SECURITY_OAUTH2_DEFAULT_MAPPER_BASIC_LAST_NAME_ATTRIBUTE_KEY:family_name}\"'\n"
   ]
  },
  {
   "cell_type": "code",
   "execution_count": 25,
   "metadata": {},
   "outputs": [],
   "source": [
    "#tenantNameStrategy\n",
    "\n",
    "old = 'tenantNameStrategy: \"${SECURITY_OAUTH2_DEFAULT_MAPPER_BASIC_TENANT_NAME_STRATEGY:domain}\"'\n",
    "new = 'tenantNameStrategy: \"${SECURITY_OAUTH2_DEFAULT_MAPPER_BASIC_TENANT_NAME_STRATEGY:custom}\"'\n",
    "\n",
    "data = data.replace(old, new)"
   ]
  },
  {
   "cell_type": "code",
   "execution_count": 26,
   "metadata": {},
   "outputs": [],
   "source": [
    "#tenantNamePattern\n",
    "\n",
    "old = 'tenantNamePattern: \"${SECURITY_OAUTH2_DEFAULT_MAPPER_BASIC_TENANT_NAME_PATTERN:}\"'\n",
    "new = 'tenantNamePattern: \"${SECURITY_OAUTH2_DEFAULT_MAPPER_BASIC_TENANT_NAME_PATTERN:%{nickname}_%{given_name} %{family_name}}\"'\n",
    "\n",
    "data = data.replace(old, new)"
   ]
  },
  {
   "cell_type": "code",
   "execution_count": 27,
   "metadata": {},
   "outputs": [],
   "source": [
    "#customerNamePattern\n",
    "\n",
    "old = 'customerNamePattern: \"${SECURITY_OAUTH2_DEFAULT_MAPPER_BASIC_CUSTOMER_NAME_PATTERN:}\"'\n"
   ]
  },
  {
   "cell_type": "code",
   "execution_count": 28,
   "metadata": {},
   "outputs": [],
   "source": [
    "#defaultDashboardName\n",
    "\n",
    "old = 'defaultDashboardName: \"${SECURITY_OAUTH2_DEFAULT_MAPPER_BASIC_DEFAULT_DASHBOARD_NAME:}\"'\n"
   ]
  },
  {
   "cell_type": "code",
   "execution_count": 29,
   "metadata": {},
   "outputs": [
    {
     "name": "stdout",
     "output_type": "stream",
     "text": [
      "================================================\n",
      "Input Data Complete\n",
      "Writing File to thingboard.yml\n",
      "Writing complete..\n"
     ]
    }
   ],
   "source": [
    "file.close()\n",
    "print('================================================')\n",
    "time.sleep(0.5)\n",
    "print('Input Data Complete')\n",
    "time.sleep(0.5)\n",
    "print('Writing File to thingboard.yml')\n",
    "file = open(\"thingsboard.yml\", \"wt\")\n",
    "#overrite the input file with the resulting data\n",
    "file.write(data)\n",
    "#close the file\n",
    "file.close()\n",
    "\n",
    "time.sleep(0.5)\n",
    "print('Writing complete..')\n"
   ]
  },
  {
   "cell_type": "code",
   "execution_count": 34,
   "metadata": {},
   "outputs": [
    {
     "name": "stdout",
     "output_type": "stream",
     "text": [
      "================================================\n",
      "Please put generated thingsboard.yml file to thingsboard conf directory\n",
      "ex : etc/thingsboard/conf on ubuntu\n",
      "And then restart thingsboard service || sudo service thingboard restart\n",
      "================================================\n",
      "===============Have a Nice Day==================\n",
      "================================================\n",
      "exiting program..\n"
     ]
    }
   ],
   "source": [
    "print('================================================')\n",
    "time.sleep(0.5)\n",
    "print('Please put generated thingsboard.yml file to thingsboard conf directory')\n",
    "print('ex : etc/thingsboard/conf on ubuntu')\n",
    "time.sleep(0.5)\n",
    "print('And then restart thingsboard service || sudo service thingboard restart')\n",
    "time.sleep(1)\n",
    "print('================================================')\n",
    "print('===============Have a Nice Day==================')\n",
    "print('================================================')\n",
    "print('exiting program..')"
   ]
  }
 ],
 "metadata": {
  "kernelspec": {
   "display_name": "Python 3",
   "language": "python",
   "name": "python3"
  },
  "language_info": {
   "codemirror_mode": {
    "name": "ipython",
    "version": 3
   },
   "file_extension": ".py",
   "mimetype": "text/x-python",
   "name": "python",
   "nbconvert_exporter": "python",
   "pygments_lexer": "ipython3",
   "version": "3.8.5"
  }
 },
 "nbformat": 4,
 "nbformat_minor": 4
}
